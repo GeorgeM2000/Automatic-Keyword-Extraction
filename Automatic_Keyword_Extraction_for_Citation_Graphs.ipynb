{
 "cells": [
  {
   "cell_type": "markdown",
   "metadata": {},
   "source": [
    "# ***Libraries & Tools***"
   ]
  },
  {
   "cell_type": "code",
   "execution_count": null,
   "metadata": {},
   "outputs": [
    {
     "name": "stdout",
     "output_type": "stream",
     "text": [
      "/home/pk/Context_Aware_Node_Embeddings/lib/python3.10/site-packages\n"
     ]
    }
   ],
   "source": [
    "import nltk\n",
    "import string\n",
    "import spacy\n",
    "import yake\n",
    "import pytextrank\n",
    "import gc\n",
    "import re\n",
    "import pickle\n",
    "import unicodedata\n",
    "import concurrent.futures\n",
    "import pandas as pd\n",
    "import matplotlib.pyplot as plt\n",
    "import seaborn as sns\n",
    "import random\n",
    "import time\n",
    "random.seed(42) # Use a random seed to ensure that results from the random functionality remain consistent across different executions.\n",
    "\n",
    "\n",
    "from itertools import chain, groupby, product\n",
    "from datetime import datetime\n",
    "from enum import Enum\n",
    "from typing import Callable, DefaultDict, Dict, List, Optional, Set, Tuple, Any\n",
    "from collections import Counter, defaultdict\n",
    "from nltk.corpus import stopwords\n",
    "from tqdm.notebook import tqdm\n",
    "from sklearn.feature_extraction.text import TfidfVectorizer"
   ]
  },
  {
   "cell_type": "code",
   "execution_count": null,
   "metadata": {},
   "outputs": [],
   "source": [
    "nltk.download('wordnet',download_dir='/home/pk/Context_Aware_Node_Embeddings/Downloads')"
   ]
  },
  {
   "cell_type": "code",
   "execution_count": 2,
   "metadata": {},
   "outputs": [],
   "source": [
    "nltk.data.path.append(\"/home/pk/Context_Aware_Node_Embeddings/Downloads\")"
   ]
  },
  {
   "cell_type": "markdown",
   "metadata": {},
   "source": [
    "# ***Abstracts Retrieval***"
   ]
  },
  {
   "cell_type": "code",
   "execution_count": null,
   "metadata": {},
   "outputs": [
    {
     "name": "stdout",
     "output_type": "stream",
     "text": [
      "Number of extracted abstracts: 52596\n"
     ]
    }
   ],
   "source": [
    "def extract_abstracts(file_path):\n",
    "    with open(file_path, 'r', encoding='utf-8') as f:\n",
    "        abstracts = f.readlines()\n",
    "\n",
    "    return [abstract.strip() for abstract in abstracts if abstract.strip()], len(abstracts)\n",
    "\n",
    "abstracts, num_abstracts = extract_abstracts('Datasets/arxiv/graph-v2/data-v2.txt')\n",
    "\n",
    "# Display the number of extracted abstracts\n",
    "print(f'Number of extracted abstracts: {num_abstracts}')"
   ]
  },
  {
   "cell_type": "code",
   "execution_count": null,
   "metadata": {},
   "outputs": [],
   "source": [
    "parent_path = 'Datasets/arxiv/graph-v1'"
   ]
  },
  {
   "cell_type": "code",
   "execution_count": null,
   "metadata": {},
   "outputs": [],
   "source": [
    "# This function cleans the text from punctuations\n",
    "def remove_punctuation_from_file(input_file, output_file):\n",
    "    with open(input_file, 'r', encoding='utf-8') as infile, open(output_file, 'w', encoding='utf-8') as outfile:\n",
    "        for line in infile: # Each line corresponds to the contents of a different node\n",
    "            outfile.write(line.translate(str.maketrans('', '', string.punctuation)).strip() + '\\n')\n",
    "\n",
    "remove_punctuation_from_file(f'{parent_path}/data-v2.txt', f'{parent_path}/data-v3.txt')"
   ]
  },
  {
   "cell_type": "code",
   "execution_count": null,
   "metadata": {},
   "outputs": [],
   "source": [
    "# This function removes everything except words (letters only)\n",
    "def remove_non_words_from_file(input_file, output_file):\n",
    "    with open(input_file, 'r', encoding='utf-8') as infile, open(output_file, 'w', encoding='utf-8') as outfile:\n",
    "        for line in infile:  # Process each line in the file\n",
    "            cleaned_line = \" \".join(re.findall(r'[a-zA-Z]+', line))  # Keep only words\n",
    "            outfile.write(cleaned_line.strip() + '\\n')\n",
    "\n",
    "# Example usage\n",
    "remove_non_words_from_file(f'{parent_path}/Keywords/RAKE10.txt', f'{parent_path}/Keywords/RAKE10C.txt')"
   ]
  },
  {
   "cell_type": "code",
   "execution_count": null,
   "metadata": {},
   "outputs": [],
   "source": [
    "abstracts"
   ]
  },
  {
   "cell_type": "code",
   "execution_count": null,
   "metadata": {},
   "outputs": [],
   "source": [
    "# This function cleans the text from commonly used Latex formatting symbols\n",
    "def clean_latex(paragraph): \n",
    "\n",
    "    matches = []\n",
    "\n",
    "    # Replace common LaTeX accented characters\n",
    "    latex_accents = {\n",
    "        r\"\\\\'a\": \"á\", r\"\\\\`a\": \"à\", r\"\\\\^a\": \"â\", r'\\\\\"a': \"ä\", r\"\\\\~a\": \"ã\", r\"\\\\c{c}\": \"ç\",\n",
    "        r\"\\\\'e\": \"é\", r\"\\\\`e\": \"è\", r\"\\\\^e\": \"ê\", r'\\\\\"e': \"ë\",\n",
    "        r\"\\\\'i\": \"í\", r\"\\\\`i\": \"ì\", r\"\\\\^i\": \"î\", r'\\\\\"i': \"ï\",\n",
    "        r\"\\\\'o\": \"ó\", r\"\\\\`o\": \"ò\", r\"\\\\^o\": \"ô\", r'\\\\\"o': \"ö\", r\"\\\\~o\": \"õ\",\n",
    "        r\"\\\\'u\": \"ú\", r\"\\\\`u\": \"ù\", r\"\\\\^u\": \"û\", r'\\\\\"u': \"ü\",\n",
    "        r\"\\\\'y\": \"ý\", r\"\\\\`y\": \"ỳ\", r\"\\\\^y\": \"ŷ\", r'\\\\\"y': \"ÿ\",\n",
    "        r\"\\\\~n\": \"ñ\"\n",
    "    }\n",
    "\n",
    "    # Extend regex to catch instances of \\^ or similar with brackets (e.g., \\^{i}, \\`{e})\n",
    "    latex_accents.update({\n",
    "        r\"\\\\\\^{a}\": \"â\", r\"\\\\\\^{e}\": \"ê\", r\"\\\\\\^{i}\": \"î\", r\"\\\\\\^{o}\": \"ô\", r\"\\\\\\^{u}\": \"û\", r\"\\\\\\^{y}\": \"ŷ\",\n",
    "        r\"\\\\\\`{a}\": \"à\", r\"\\\\\\`{e}\": \"è\", r\"\\\\\\`{i}\": \"ì\", r\"\\\\\\`{o}\": \"ò\", r\"\\\\\\`{u}\": \"ù\",\n",
    "        r\"\\\\'{a}\": \"á\", r\"\\\\'{e}\": \"é\", r\"\\\\'{i}\": \"í\", r\"\\\\'{o}\": \"ó\", r\"\\\\'{u}\": \"ú\", r\"\\\\'{y}\": \"ý\",\n",
    "        r'\\\\\"{a}': \"ä\", r'\\\\\"{e}': \"ë\", r'\\\\\"{i}': \"ï\", r'\\\\\"{o}': \"ö\", r'\\\\\"{u}': \"ü\", r'\\\\\"{y}': \"ÿ\",\n",
    "        r\"\\\\~{a}\": \"ã\", r\"\\\\~{o}\": \"õ\", r\"\\\\~{n}\": \"ñ\", r\"\\\\c{c}\": \"ç\"\n",
    "    })\n",
    "\n",
    "    # Add other potential patterns for accented characters as needed\n",
    "    latex_accents.update({\n",
    "        r\"\\\\'{A}\": \"Á\", r\"\\\\'{E}\": \"É\", r\"\\\\'{I}\": \"Í\", r\"\\\\'{O}\": \"Ó\", r\"\\\\'{U}\": \"Ú\", r\"\\\\'{Y}\": \"Ý\",\n",
    "        r\"\\\\`{A}\": \"À\", r\"\\\\`{E}\": \"È\", r\"\\\\`{I}\": \"Ì\", r\"\\\\`{O}\": \"Ò\", r\"\\\\`{U}\": \"Ù\",\n",
    "        r\"\\\\\\^{A}\": \"Â\", r\"\\\\\\^{E}\": \"Ê\", r\"\\\\\\^{I}\": \"Î\", r\"\\\\\\^{O}\": \"Ô\", r\"\\\\\\^{U}\": \"Û\", r\"\\\\\\^{Y}\": \"Ŷ\",\n",
    "        r'\\\\\"{A}': \"Ä\", r'\\\\\"{E}': \"Ë\", r'\\\\\"{I}': \"Ï\", r'\\\\\"{O}': \"Ö\", r'\\\\\"{U}': \"Ü\", r'\\\\\"{Y}': \"Ÿ\",\n",
    "        r\"\\\\~{A}\": \"Ã\", r\"\\\\~{O}\": \"Õ\", r\"\\\\~{N}\": \"Ñ\", r\"\\\\c{C}\": \"Ç\"\n",
    "    })\n",
    "\n",
    "\n",
    "    for latex, char in latex_accents.items():\n",
    "        paragraph = re.sub(latex, char, paragraph)\n",
    "\n",
    "    # Remove URLs\n",
    "    matches.append(len(re.findall(r'https?://(?:www\\.)?\\S+\\.\\S+|www\\.\\S+\\.\\S+', paragraph)))\n",
    "    paragraph = re.sub(r'https?://(?:www\\.)?\\S+\\.\\S+|www\\.\\S+\\.\\S+', '', paragraph)\n",
    "\n",
    "    # Remove literal dollar signs \"\\$\"\n",
    "    matches.append(len(re.findall(r'\\\\\\$', paragraph)))\n",
    "    paragraph = re.sub(r'\\\\\\$', '', paragraph)\n",
    "\n",
    "    # Remove block math\n",
    "    matches.append(len(re.findall(r'\\$\\$(.*?)\\$\\$|\\\\\\[(.*?)\\\\\\]', paragraph)))\n",
    "    paragraph = re.sub(r'\\$\\$(.*?)\\$\\$|\\\\\\[(.*?)\\\\\\]', '', paragraph, flags=re.DOTALL)\n",
    "\n",
    "    # Replace inline math with alphabetic content\n",
    "    matches.append(len(re.findall(r'\\$(\\b[a-zA-Z]+\\b)\\$', paragraph)))\n",
    "    paragraph = re.sub(r'\\$(\\b[a-zA-Z]+\\b)\\$', r'\\1', paragraph)  # Replace alphabetic inline math\n",
    "\n",
    "    # Remove remaining inline math\n",
    "    matches.append(len(re.findall(r'\\$(.*?)\\$|\\\\\\((.*?)\\\\\\)', paragraph)))\n",
    "    paragraph = re.sub(r'\\$(.*?)\\$|\\\\\\((.*?)\\\\\\)', '', paragraph)\n",
    "\n",
    "    # Remove nested functions\n",
    "    matches.append(len(re.findall(r'[a-zA-Z_]+\\((?:[^\\(\\){}]|\\((?:[^\\(\\)]|\\([^()]*\\))*\\)|\\{(?:[^{}]|\\{[^{}]*\\})*\\})*\\)', paragraph)))\n",
    "    paragraph = re.sub(r'[a-zA-Z_]+\\((?:[^\\(\\){}]|\\((?:[^\\(\\)]|\\([^()]*\\))*\\)|\\{(?:[^{}]|\\{[^{}]*\\})*\\})*\\)', '', paragraph)\n",
    "\n",
    "    # Remove \\begin{...} and \\end{...} commands\n",
    "    matches.append(len(re.findall(r'\\\\begin\\{[a-zA-Z]+\\}|\\\\end\\{[a-zA-Z]+\\}', paragraph)))\n",
    "    paragraph = re.sub(r'\\\\begin\\{[a-zA-Z]+\\}|\\\\end\\{[a-zA-Z]+\\}', '', paragraph, flags=re.DOTALL)\n",
    "\n",
    "    # Replace standalone LaTeX commands\n",
    "    matches.append(len(re.findall(r\"\\\\[a-zA-Z]+\\{(.*?)\\}\", paragraph)))\n",
    "    paragraph = re.sub(r\"\\\\[a-zA-Z]+\\{(.*?)\\}\", r\"\\1\", paragraph)\n",
    "\n",
    "    # Remove remaining LaTeX commands and escape sequences\n",
    "    matches.append(len(re.findall(r'\\\\[a-zA-Z]+(\\{.*?\\}|\\[.*?\\])?', paragraph)))\n",
    "    paragraph = re.sub(r'\\\\[a-zA-Z]+(\\{.*?\\}|\\[.*?\\])?', '', paragraph)\n",
    "\n",
    "    # Remove extraneous braces and brackets\n",
    "    matches.append(len(re.findall(r'[{}\\\\~\\[\\]]', paragraph)))\n",
    "    paragraph = re.sub(r'[{}\\\\~\\[\\]]', '', paragraph)\n",
    "\n",
    "    # Fix misplaced whitespace before commas and periods\n",
    "    matches.append(len(re.findall(r'\\s+([,\\.])', paragraph)))\n",
    "    paragraph = re.sub(r'\\s+([,\\.])', r'\\1', paragraph)\n",
    "\n",
    "    # Clean up extra whitespace\n",
    "    paragraph = ' '.join(paragraph.split())\n",
    "\n",
    "    # Replace multiple commas with a single comma\n",
    "    matches.append(len(re.findall(r',+', paragraph)))\n",
    "    paragraph = re.sub(r',+', ',', paragraph)\n",
    "\n",
    "    # Replace multiple periods with a single period\n",
    "    matches.append(len(re.findall(r'\\.+', paragraph)))\n",
    "    paragraph = re.sub(r'\\.+', '.', paragraph)\n",
    "\n",
    "    # Normalize Unicode to ensure proper representation of accents\n",
    "    paragraph = unicodedata.normalize(\"NFC\", paragraph)\n",
    "\n",
    "    return paragraph, matches"
   ]
  },
  {
   "cell_type": "code",
   "execution_count": null,
   "metadata": {},
   "outputs": [],
   "source": [
    "abstract_re_matches = [] # Abstract regular expression matches\n",
    "clean_abstracts = []\n",
    "\n",
    "for i in range(len(abstracts)):\n",
    "    clean_abstract, matches = clean_latex(abstracts[i])\n",
    "    clean_abstracts.append(clean_abstract)\n",
    "    abstract_re_matches.append(matches)\n",
    "\n",
    "abstract_re_matches_sum = [sum(row[i] for row in abstract_re_matches) for i in range(len(abstract_re_matches[0]))] # len(abstract_re_matches[0]) = 13"
   ]
  },
  {
   "cell_type": "code",
   "execution_count": null,
   "metadata": {},
   "outputs": [],
   "source": [
    "abstract_re_matches_sum"
   ]
  },
  {
   "cell_type": "code",
   "execution_count": 6,
   "metadata": {},
   "outputs": [],
   "source": [
    "abstract_re_matches_sum = {\n",
    "    'Remove URLs'                                           : abstract_re_matches_sum[0],\n",
    "    'Remove literal dollar signs \\$'                        : abstract_re_matches_sum[1],\n",
    "    'Remove block math'                                     : abstract_re_matches_sum[2],\n",
    "    'Replace inline math with alphabetic content'           : abstract_re_matches_sum[3],\n",
    "    'Remove remaining inline math'                          : abstract_re_matches_sum[4],\n",
    "    'Remove nested functions'                               : abstract_re_matches_sum[5],\n",
    "    'Remove \\begin{...} and \\end{...} commands'             : abstract_re_matches_sum[6],\n",
    "    'Replace standalone LaTeX commands'                     : abstract_re_matches_sum[7],\n",
    "    'Remove remaining LaTeX commands and escape sequences'  : abstract_re_matches_sum[8],\n",
    "    'Remove extraneous braces and brackets'                 : abstract_re_matches_sum[9],\n",
    "    'Fix misplaced whitespace before commas and periods'    : abstract_re_matches_sum[10],\n",
    "    'Replace multiple commas with a single comma'           : abstract_re_matches_sum[11],\n",
    "    'Replace multiple periods with a single period'         : abstract_re_matches_sum[12]\n",
    "}"
   ]
  },
  {
   "cell_type": "code",
   "execution_count": 7,
   "metadata": {},
   "outputs": [
    {
     "data": {
      "text/plain": [
       "{'Remove URLs': 1712,\n",
       " 'Remove literal dollar signs \\\\$': 22,\n",
       " 'Remove block math': 261,\n",
       " 'Replace inline math with alphabetic content': 34363,\n",
       " 'Remove remaining inline math': 66764,\n",
       " 'Remove nested functions': 7730,\n",
       " 'Remove \\x08egin{...} and \\\\end{...} commands': 38,\n",
       " 'Replace standalone LaTeX commands': 6416,\n",
       " 'Remove remaining LaTeX commands and escape sequences': 5974,\n",
       " 'Remove extraneous braces and brackets': 25540,\n",
       " 'Fix misplaced whitespace before commas and periods': 21067,\n",
       " 'Replace multiple commas with a single comma': 618795,\n",
       " 'Replace multiple periods with a single period': 734214}"
      ]
     },
     "execution_count": 7,
     "metadata": {},
     "output_type": "execute_result"
    }
   ],
   "source": [
    "abstract_re_matches_sum"
   ]
  },
  {
   "cell_type": "code",
   "execution_count": 8,
   "metadata": {},
   "outputs": [],
   "source": [
    "abstracts = clean_abstracts"
   ]
  },
  {
   "cell_type": "code",
   "execution_count": null,
   "metadata": {},
   "outputs": [],
   "source": [
    "with open(f'{parent_path}/data-v2.txt', 'w', encoding='utf-8') as f:\n",
    "    for abstract in abstracts:\n",
    "        f.write(f\"{abstract}\\n\")"
   ]
  },
  {
   "cell_type": "code",
   "execution_count": null,
   "metadata": {},
   "outputs": [],
   "source": [
    "def prepareData(ratio, batch_size):\n",
    "  with open('%s/graph.txt' % parent_path, 'rb') as f:\n",
    "    edges = [i for i in f]\n",
    "\n",
    "  selected = int(len(edges) * ratio)\n",
    "  selected = selected - selected % batch_size\n",
    "  selected = random.sample(edges, selected)\n",
    "  selected_set = set(selected)\n",
    "  remain = [i for i in edges if i not in selected_set]\n",
    "  \n",
    "  \n",
    "  \"\"\" try:\n",
    "    temp_dir = Path(f'{parent_path}/temp')\n",
    "\n",
    "    # Check if the directory exists, if so, delete it\n",
    "    if temp_dir.exists() and temp_dir.is_dir():\n",
    "        #shutil.rmtree(temp_dir)\n",
    "        #print(\"Existing directory deleted.\")\n",
    "        pass\n",
    "    else:\n",
    "        # Create the directory\n",
    "        temp_dir.mkdir(parents=True, exist_ok=True)\n",
    "        print(\"Directory created successfully.\")\n",
    "\n",
    "  except Exception as e:\n",
    "      print(f\"An error occurred: {e}\") \"\"\"\n",
    "\n",
    "  with open(f\"{parent_path}/sgraph{str(ratio).split('.')[1]}.txt\", 'wb') as f:\n",
    "    for i in selected:\n",
    "      f.write(i)\n",
    "\n",
    "\n",
    "  with open(f\"{parent_path}/tgraph{str(1.0 - ratio).split('.')[1]}.txt\", 'wb') as f:\n",
    "    for i in remain:\n",
    "      f.write(i)"
   ]
  },
  {
   "cell_type": "code",
   "execution_count": null,
   "metadata": {},
   "outputs": [],
   "source": [
    "prepareData(0.75, 64)"
   ]
  },
  {
   "cell_type": "code",
   "execution_count": 3,
   "metadata": {},
   "outputs": [],
   "source": [
    "def filter_abstracts_by_edges(edge_file, abstracts):\n",
    "    unique_nodes = set()\n",
    "\n",
    "    # Read the edge file and collect unique node IDs\n",
    "    with open(edge_file, 'r') as file:\n",
    "        for line in file:\n",
    "            # Split on whitespace (handles both tabs and spaces)\n",
    "            node1, node2 = line.strip().split()\n",
    "            unique_nodes.add(int(node1))\n",
    "            unique_nodes.add(int(node2))\n",
    "\n",
    "    # Create a new list of abstracts for the unique nodes\n",
    "    filtered_abstracts = [abstracts[node] for node in unique_nodes if node < len(abstracts)]\n",
    "\n",
    "    return filtered_abstracts"
   ]
  },
  {
   "cell_type": "code",
   "execution_count": null,
   "metadata": {},
   "outputs": [],
   "source": [
    "filtered_abstracts = filter_abstracts_by_edges(f\"{parent_path}/sgraph75.txt\", abstracts)"
   ]
  },
  {
   "cell_type": "code",
   "execution_count": 9,
   "metadata": {},
   "outputs": [
    {
     "data": {
      "text/plain": [
       "86326"
      ]
     },
     "execution_count": 9,
     "metadata": {},
     "output_type": "execute_result"
    }
   ],
   "source": [
    "len(filtered_abstracts)"
   ]
  },
  {
   "cell_type": "code",
   "execution_count": 6,
   "metadata": {},
   "outputs": [],
   "source": [
    "abstracts = filtered_abstracts"
   ]
  },
  {
   "cell_type": "code",
   "execution_count": 7,
   "metadata": {},
   "outputs": [],
   "source": [
    "num_abstracts = len(abstracts)"
   ]
  },
  {
   "cell_type": "markdown",
   "metadata": {},
   "source": [
    "# ***Keyword Extraction***"
   ]
  },
  {
   "cell_type": "markdown",
   "metadata": {},
   "source": [
    "## RAKE Class"
   ]
  },
  {
   "cell_type": "code",
   "execution_count": 4,
   "metadata": {},
   "outputs": [],
   "source": [
    "# Readability type definitions.\n",
    "Word = str\n",
    "Sentence = str\n",
    "Phrase = Tuple[str, ...]"
   ]
  },
  {
   "cell_type": "code",
   "execution_count": 5,
   "metadata": {},
   "outputs": [],
   "source": [
    "class Metric(Enum):\n",
    "    \"\"\"Different metrics that can be used for ranking.\"\"\"\n",
    "\n",
    "    DEGREE_TO_FREQUENCY_RATIO = 0  # Uses d(w)/f(w) as the metric\n",
    "    WORD_DEGREE = 1  # Uses d(w) alone as the metric\n",
    "    WORD_FREQUENCY = 2  # Uses f(w) alone as the metric"
   ]
  },
  {
   "cell_type": "code",
   "execution_count": null,
   "metadata": {},
   "outputs": [],
   "source": [
    "class Rake:\n",
    "    \"\"\"Rapid Automatic Keyword Extraction Algorithm.\"\"\"\n",
    "\n",
    "    def __init__(\n",
    "        self,\n",
    "        stopwords: Optional[Set[str]] = None,\n",
    "        punctuations: Optional[Set[str]] = None,\n",
    "        language: str = 'english',\n",
    "        ranking_metric: Metric = Metric.DEGREE_TO_FREQUENCY_RATIO,\n",
    "        max_length: int = 100000,\n",
    "        min_length: int = 1,\n",
    "        include_repeated_phrases: bool = True,\n",
    "        sentence_tokenizer: Optional[Callable[[str], List[str]]] = None,\n",
    "        word_tokenizer: Optional[Callable[[str], List[str]]] = None,\n",
    "    ):\n",
    "        \"\"\"Constructor.\n",
    "\n",
    "        :param stopwords: Words to be ignored for keyword extraction.\n",
    "        :param punctuations: Punctuations to be ignored for keyword extraction.\n",
    "        :param language: Language to be used for stopwords.\n",
    "        :param max_length: Maximum limit on the number of words in a phrase\n",
    "                           (Inclusive. Defaults to 100000)\n",
    "        :param min_length: Minimum limit on the number of words in a phrase\n",
    "                           (Inclusive. Defaults to 1)\n",
    "        :param include_repeated_phrases: If phrases repeat in phrase list consider\n",
    "                            them as is without dropping any phrases for future\n",
    "                            calculations. (Defaults to True) Ex: \"Magic systems is\n",
    "                            a company. Magic systems was founded by Raul\".\n",
    "\n",
    "                            If repeated phrases are allowed phrase list would be\n",
    "                            [\n",
    "                                (magic, systems), (company,), (magic, systems),\n",
    "                                (founded,), (raul,)\n",
    "                            ]\n",
    "\n",
    "                            If they aren't allowed phrase list would be\n",
    "                            [\n",
    "                                (magic, systems), (company,),\n",
    "                                (founded,), (raul,)\n",
    "                            ]\n",
    "        :param sentence_tokenizer: Tokenizer used to tokenize the text string into sentences.\n",
    "        :param word_tokenizer: Tokenizer used to tokenize the sentence string into words.\n",
    "        \"\"\"\n",
    "        # By default use degree to frequency ratio as the metric.\n",
    "        if isinstance(ranking_metric, Metric):\n",
    "            self.metric = ranking_metric\n",
    "        else:\n",
    "            self.metric = Metric.DEGREE_TO_FREQUENCY_RATIO\n",
    "\n",
    "        # If stopwords not provided we use language stopwords by default.\n",
    "        self.stopwords: Set[str]\n",
    "        if stopwords:\n",
    "            self.stopwords = stopwords\n",
    "        else:\n",
    "            self.stopwords = set(nltk.corpus.stopwords.words(language))\n",
    "\n",
    "        # If punctuations are not provided we ignore all punctuation symbols.\n",
    "        self.punctuations: Set[str]\n",
    "        if punctuations:\n",
    "            self.punctuations = punctuations\n",
    "        else:\n",
    "            self.punctuations = set(string.punctuation)\n",
    "\n",
    "        # All things which act as sentence breaks during keyword extraction.\n",
    "        self.to_ignore: Set[str] = set(chain(self.stopwords, self.punctuations))\n",
    "\n",
    "        # Assign min or max length to the attributes\n",
    "        self.min_length: int = min_length\n",
    "        self.max_length: int = max_length\n",
    "\n",
    "        # Whether we should include repeated phreases in the computation or not.\n",
    "        self.include_repeated_phrases: bool = include_repeated_phrases\n",
    "\n",
    "        # Tokenizers.\n",
    "        self.sentence_tokenizer: Callable[[str], List[str]]\n",
    "        if sentence_tokenizer:\n",
    "            self.sentence_tokenizer = sentence_tokenizer\n",
    "        else:\n",
    "            self.sentence_tokenizer = nltk.tokenize.sent_tokenize\n",
    "        self.word_tokenizer: Callable[[str], List[str]]\n",
    "        if word_tokenizer:\n",
    "            self.word_tokenizer = word_tokenizer\n",
    "        else:\n",
    "            self.word_tokenizer = nltk.tokenize.wordpunct_tokenize\n",
    "\n",
    "        # Stuff to be extracted from the provided text.\n",
    "        self.frequency_dist: Dict[Word, int]\n",
    "        self.degree: Dict[Word, int]\n",
    "        self.rank_list: List[Tuple[float, Sentence]]\n",
    "        self.ranked_phrases: List[Sentence]\n",
    "\n",
    "    def extract_keywords_from_text(self, text: str):\n",
    "        \"\"\"Method to extract keywords from the text provided.\n",
    "\n",
    "        :param text: Text to extract keywords from, provided as a string.\n",
    "        \"\"\"\n",
    "        sentences: List[Sentence] = self._tokenize_text_to_sentences(text)\n",
    "        self.extract_keywords_from_sentences(sentences)\n",
    "\n",
    "    def extract_keywords_from_sentences(self, sentences: List[Sentence]):\n",
    "        \"\"\"Method to extract keywords from the list of sentences provided.\n",
    "\n",
    "        :param sentences: Text to extraxt keywords from, provided as a list\n",
    "                          of strings, where each string is a sentence.\n",
    "        \"\"\"\n",
    "        phrase_list: List[Phrase] = self._generate_phrases(sentences)\n",
    "        self._build_frequency_dist(phrase_list)\n",
    "        self._build_word_co_occurance_graph(phrase_list)\n",
    "        self._build_ranklist(phrase_list)\n",
    "\n",
    "    def get_ranked_phrases(self) -> List[Sentence]:\n",
    "        \"\"\"Method to fetch ranked keyword strings.\n",
    "\n",
    "        :return: List of strings where each string represents an extracted\n",
    "                 keyword string.\n",
    "        \"\"\"\n",
    "        return self.ranked_phrases\n",
    "\n",
    "    def get_ranked_phrases_with_scores(self) -> List[Tuple[float, Sentence]]:\n",
    "        \"\"\"Method to fetch ranked keyword strings along with their scores.\n",
    "\n",
    "        :return: List of tuples where each tuple is formed of an extracted\n",
    "                 keyword string and its score. Ex: (5.68, 'Four Scoures')\n",
    "        \"\"\"\n",
    "        return self.rank_list\n",
    "\n",
    "    def get_word_frequency_distribution(self) -> Dict[Word, int]:\n",
    "        \"\"\"Method to fetch the word frequency distribution in the given text.\n",
    "\n",
    "        :return: Dictionary (defaultdict) of the format `word -> frequency`.\n",
    "        \"\"\"\n",
    "        return self.frequency_dist\n",
    "\n",
    "    def get_word_degrees(self) -> Dict[Word, int]:\n",
    "        \"\"\"Method to fetch the degree of words in the given text. Degree can be\n",
    "        defined as sum of co-occurances of the word with other words in the\n",
    "        given text.\n",
    "\n",
    "        :return: Dictionary (defaultdict) of the format `word -> degree`.\n",
    "        \"\"\"\n",
    "        return self.degree\n",
    "\n",
    "    def _tokenize_text_to_sentences(self, text: str) -> List[Sentence]:\n",
    "        \"\"\"Tokenizes the given text string into sentences using the configured\n",
    "        sentence tokenizer. Configuration uses `nltk.tokenize.sent_tokenize`\n",
    "        by default.\n",
    "\n",
    "        :param text: String text to tokenize into sentences.\n",
    "        :return: List of sentences as per the tokenizer used.\n",
    "        \"\"\"\n",
    "        return self.sentence_tokenizer(text)\n",
    "\n",
    "    def _tokenize_sentence_to_words(self, sentence: Sentence) -> List[Word]:\n",
    "        \"\"\"Tokenizes the given sentence string into words using the configured\n",
    "        word tokenizer. Configuration uses `nltk.tokenize.wordpunct_tokenize`\n",
    "        by default.\n",
    "\n",
    "        :param sentence: String sentence to tokenize into words.\n",
    "        :return: List of words as per the tokenizer used.\n",
    "        \"\"\"\n",
    "        return self.word_tokenizer(sentence)\n",
    "\n",
    "    def _build_frequency_dist(self, phrase_list: List[Phrase]) -> None:\n",
    "        \"\"\"Builds frequency distribution of the words in the given body of text.\n",
    "\n",
    "        :param phrase_list: List of List of strings where each sublist is a\n",
    "                            collection of words which form a contender phrase.\n",
    "        \"\"\"\n",
    "        self.frequency_dist = Counter(chain.from_iterable(phrase_list))\n",
    "\n",
    "    def _build_word_co_occurance_graph(self, phrase_list: List[Phrase]) -> None:\n",
    "        \"\"\"Builds the co-occurance graph of words in the given body of text to\n",
    "        compute degree of each word.\n",
    "\n",
    "        :param phrase_list: List of List of strings where each sublist is a\n",
    "                            collection of words which form a contender phrase.\n",
    "        \"\"\"\n",
    "        co_occurance_graph: DefaultDict[Word, DefaultDict[Word, int]] = defaultdict(lambda: defaultdict(lambda: 0))\n",
    "        for phrase in phrase_list:\n",
    "            # For each phrase in the phrase list, count co-occurances of the\n",
    "            # word with other words in the phrase.\n",
    "            #\n",
    "            # Note: Keep the co-occurances graph as is, to help facilitate its\n",
    "            # use in other creative ways if required later.\n",
    "            for (word, coword) in product(phrase, phrase):\n",
    "                co_occurance_graph[word][coword] += 1\n",
    "        self.degree = defaultdict(lambda: 0)\n",
    "        for key in co_occurance_graph:\n",
    "            self.degree[key] = sum(co_occurance_graph[key].values())\n",
    "\n",
    "    def _build_ranklist(self, phrase_list: List[Phrase]):\n",
    "        \"\"\"Method to rank each contender phrase using the formula\n",
    "\n",
    "              phrase_score = sum of scores of words in the phrase.\n",
    "              word_score = d(w) or f(w) or d(w)/f(w) where d is degree\n",
    "                           and f is frequency.\n",
    "\n",
    "        :param phrase_list: List of List of strings where each sublist is a\n",
    "                            collection of words which form a contender phrase.\n",
    "        \"\"\"\n",
    "        self.rank_list = []\n",
    "        for phrase in phrase_list:\n",
    "            rank = 0.0\n",
    "            for word in phrase:\n",
    "                if self.metric == Metric.DEGREE_TO_FREQUENCY_RATIO:\n",
    "                    rank += 1.0 * self.degree[word] / self.frequency_dist[word]\n",
    "                elif self.metric == Metric.WORD_DEGREE:\n",
    "                    rank += 1.0 * self.degree[word]\n",
    "                else:\n",
    "                    rank += 1.0 * self.frequency_dist[word]\n",
    "            self.rank_list.append((rank, ' '.join(phrase)))\n",
    "        self.rank_list.sort(reverse=True)\n",
    "        self.ranked_phrases = [ph[1] for ph in self.rank_list]\n",
    "\n",
    "    def _generate_phrases(self, sentences: List[Sentence]) -> List[Phrase]:\n",
    "        \"\"\"Method to generate contender phrases given the sentences of the text\n",
    "        document.\n",
    "\n",
    "        :param sentences: List of strings where each string represents a\n",
    "                          sentence which forms the text.\n",
    "        :return: Set of string tuples where each tuple is a collection\n",
    "                 of words forming a contender phrase.\n",
    "        \"\"\"\n",
    "        phrase_list: List[Phrase] = []\n",
    "        # Create contender phrases from sentences.\n",
    "        for sentence in sentences:\n",
    "            word_list: List[Word] = [word.lower() for word in self._tokenize_sentence_to_words(sentence)]\n",
    "            phrase_list.extend(self._get_phrase_list_from_words(word_list))\n",
    "\n",
    "        # Based on user's choice to include or not include repeated phrases\n",
    "        # we compute the phrase list and return it. If not including repeated\n",
    "        # phrases, we only include the first occurance of the phrase and drop\n",
    "        # the rest.\n",
    "        if not self.include_repeated_phrases:\n",
    "            unique_phrase_tracker: Set[Phrase] = set()\n",
    "            non_repeated_phrase_list: List[Phrase] = []\n",
    "            for phrase in phrase_list:\n",
    "                if phrase not in unique_phrase_tracker:\n",
    "                    unique_phrase_tracker.add(phrase)\n",
    "                    non_repeated_phrase_list.append(phrase)\n",
    "            return non_repeated_phrase_list\n",
    "\n",
    "        return phrase_list\n",
    "\n",
    "    def _get_phrase_list_from_words(self, word_list: List[Word]) -> List[Phrase]:\n",
    "        \"\"\"Method to create contender phrases from the list of words that form\n",
    "        a sentence by dropping stopwords and punctuations and grouping the left\n",
    "        words into phrases. Only phrases in the given length range (both limits\n",
    "        inclusive) would be considered to build co-occurrence matrix. Ex:\n",
    "\n",
    "        Sentence: Red apples, are good in flavour.\n",
    "        List of words: ['red', 'apples', \",\", 'are', 'good', 'in', 'flavour']\n",
    "        List after dropping punctuations and stopwords.\n",
    "        List of words: ['red', 'apples', *, *, good, *, 'flavour']\n",
    "        List of phrases: [('red', 'apples'), ('good',), ('flavour',)]\n",
    "\n",
    "        List of phrases with a correct length:\n",
    "        For the range [1, 2]: [('red', 'apples'), ('good',), ('flavour',)]\n",
    "        For the range [1, 1]: [('good',), ('flavour',)]\n",
    "        For the range [2, 2]: [('red', 'apples')]\n",
    "\n",
    "        :param word_list: List of words which form a sentence when joined in\n",
    "                          the same order.\n",
    "        :return: List of contender phrases honouring phrase length requirements\n",
    "                 that are formed after dropping stopwords and punctuations.\n",
    "        \"\"\"\n",
    "        groups = groupby(word_list, lambda x: x not in self.to_ignore)\n",
    "        phrases: List[Phrase] = [tuple(group[1]) for group in groups if group[0]]\n",
    "        return list(filter(lambda x: self.min_length <= len(x) <= self.max_length, phrases))"
   ]
  },
  {
   "cell_type": "markdown",
   "metadata": {},
   "source": [
    "## TF-IDF Functions"
   ]
  },
  {
   "cell_type": "code",
   "execution_count": null,
   "metadata": {},
   "outputs": [],
   "source": [
    "\"\"\"\n",
    "Use this function when the number of abstracts is small or the number of words is small.\n",
    "\"\"\"\n",
    "\n",
    "def extract_keywords_tfidf(abstracts, T):\n",
    "    vectorizer = TfidfVectorizer()\n",
    "    tfidf_matrix = vectorizer.fit_transform(abstracts)\n",
    "\n",
    "    # Get feature names (i.e., words)\n",
    "    feature_names = vectorizer.get_feature_names_out()\n",
    "\n",
    "    # Convert the TF-IDF matrix to a DataFrame\n",
    "    tfidf_df = pd.DataFrame(tfidf_matrix.toarray(), columns=feature_names)\n",
    "\n",
    "    # Extract top_n keywords for each abstract\n",
    "    keywords_per_abstract = []\n",
    "    for idx, row in tfidf_df.iterrows():\n",
    "        # Get the top_n words with highest TF-IDF scores\n",
    "        top_keywords = row.nlargest(T).index.tolist()\n",
    "        keywords_per_abstract.append(top_keywords)\n",
    "\n",
    "    return keywords_per_abstract"
   ]
  },
  {
   "cell_type": "code",
   "execution_count": null,
   "metadata": {},
   "outputs": [],
   "source": [
    "\"\"\"\n",
    "Use this function when the number of abstracts is large and dividing them with a number always results in an integer. \n",
    "\"\"\"\n",
    "\n",
    "def extract_keywords_tfidf(abstracts, T, batch_size):\n",
    "    # Fit once on the entire data to get document frequencies (IDF values)\n",
    "    vectorizer = TfidfVectorizer()\n",
    "    vectorizer.fit(abstracts)  # Only fit to get IDF and vocabulary\n",
    "\n",
    "    # Get feature names (i.e., words)\n",
    "    feature_names = vectorizer.get_feature_names_out()\n",
    "\n",
    "    keywords_per_abstract = []\n",
    "    for i in range(0, len(abstracts), batch_size):\n",
    "\n",
    "      batch_abstracts = abstracts[i:i + batch_size]\n",
    "      tfidf_matrix = vectorizer.transform(batch_abstracts)  # Use transform, not fit_transform. \n",
    "      # NOTE: The TF values will be calculated based on the size of the batch_abstracts. The larger it is, the better TF values we get.\n",
    "\n",
    "      # Now, proceed with extracting top keywords as before\n",
    "      for row in tfidf_matrix:\n",
    "          row_array = row.toarray().flatten()\n",
    "          top_keywords = [feature_names[j] for j in row_array.argsort()[-T:][::-1]]\n",
    "          keywords_per_abstract.append(top_keywords)\n",
    "\n",
    "    return keywords_per_abstract"
   ]
  },
  {
   "cell_type": "code",
   "execution_count": null,
   "metadata": {},
   "outputs": [],
   "source": [
    "\"\"\"\n",
    "Use this function when the number of abstracts is large and dividing them always results in a float number.\n",
    "\"\"\"\n",
    "\n",
    "\n",
    "def extract_keywords_tfidf(abstracts, T, ranges):\n",
    "    # Fit once on the entire data to get document frequencies (IDF values)\n",
    "    vectorizer = TfidfVectorizer()\n",
    "    vectorizer.fit(abstracts)  # Only fit to get IDF and vocabulary\n",
    "\n",
    "     # Get feature names (i.e., words)\n",
    "    feature_names = vectorizer.get_feature_names_out()\n",
    "\n",
    "    keywords_per_abstract = []\n",
    "    for start, end in ranges:\n",
    "        batch_abstracts = abstracts[start:end]  # Extract batch abstracts\n",
    "        tfidf_matrix = vectorizer.transform(batch_abstracts)  # Use transform\n",
    "\n",
    "        # Process each row in the batch\n",
    "        for row in tfidf_matrix:\n",
    "            row_array = row.toarray().flatten()\n",
    "            top_keywords = [feature_names[j] for j in row_array.argsort()[-T:][::-1]]\n",
    "            keywords_per_abstract.append(top_keywords)\n",
    "    \n",
    "    return keywords_per_abstract"
   ]
  },
  {
   "cell_type": "markdown",
   "metadata": {},
   "source": [
    "### TF-IDF Parallel Execution Functions"
   ]
  },
  {
   "cell_type": "code",
   "execution_count": null,
   "metadata": {},
   "outputs": [],
   "source": [
    "def process_tfidf_batch(batch_abstracts, vectorizer_pickle, feature_names, T, batch_index):\n",
    "    \"\"\"\n",
    "    Process a batch of abstracts and extract the top keywords.\n",
    "    \"\"\"\n",
    "    with open(vectorizer_pickle, 'rb') as f:\n",
    "        vectorizer = pickle.load(f)  # Load shared vectorizer\n",
    "\n",
    "    tfidf_matrix = vectorizer.transform(batch_abstracts)  # Use transform\n",
    "    batch_keywords = []\n",
    "\n",
    "    # Process each row in the batch\n",
    "    for row in tfidf_matrix:\n",
    "        row_array = row.toarray().flatten()\n",
    "        top_keywords = [feature_names[j] for j in row_array.argsort()[-T:][::-1]]\n",
    "        batch_keywords.append(top_keywords)\n",
    "    \n",
    "    return batch_index, batch_keywords\n",
    "\n",
    "def parallel_tfidf_processing(abstracts, ranges, T, num_threads=5):\n",
    "    keywords_per_abstract = [None] * len(abstracts)\n",
    "    vectorizer_pickle = \"vectorizer.pkl\"\n",
    "\n",
    "    start_time = datetime.now()\n",
    "\n",
    "    # Fit once on the entire data to get document frequencies (IDF values)\n",
    "    vectorizer = TfidfVectorizer()\n",
    "    vectorizer.fit(abstracts)  # Only fit to get IDF and vocabulary\n",
    "\n",
    "    # Get feature names (i.e., words)\n",
    "    feature_names = vectorizer.get_feature_names_out()\n",
    "\n",
    "    # Save vectorizer for multiprocessing\n",
    "    with open(vectorizer_pickle, 'wb') as f:\n",
    "        pickle.dump(vectorizer, f)\n",
    "\n",
    "    with concurrent.futures.ProcessPoolExecutor(max_workers=num_threads) as executor:\n",
    "        # Submit tasks to the thread pool for each range of abstracts\n",
    "        futures = [\n",
    "            executor.submit(process_tfidf_batch, abstracts[start:end], vectorizer_pickle, feature_names, T, batch_index)\n",
    "            for batch_index, (start, end) in enumerate(ranges)\n",
    "        ]\n",
    "        \n",
    "        # Wait for the results and place them in the correct position in the final list\n",
    "        for future in concurrent.futures.as_completed(futures):\n",
    "            batch_index, batch_keywords = future.result()\n",
    "            start, end = ranges[batch_index]\n",
    "            keywords_per_abstract[start:end] = batch_keywords  # Place results in the correct range\n",
    "\n",
    "        end_time = datetime.now()\n",
    "        print(f'Time TF-IDF {T}: {((end_time - start_time).total_seconds()) / 60.0}')\n",
    "\n",
    "    return keywords_per_abstract"
   ]
  },
  {
   "cell_type": "markdown",
   "metadata": {},
   "source": [
    "## Keyword & Keyphrase Extraction Methods"
   ]
  },
  {
   "cell_type": "code",
   "execution_count": 8,
   "metadata": {},
   "outputs": [],
   "source": [
    "def save_keywords_to_files(keywords, file_name):\n",
    "    with open(file_name, 'w', encoding='utf-8') as f:\n",
    "        for k in keywords:\n",
    "            line = ' '.join(k)\n",
    "            f.write(line + '\\n')"
   ]
  },
  {
   "cell_type": "code",
   "execution_count": null,
   "metadata": {},
   "outputs": [],
   "source": [
    "# This function calculates how many words and non-words (numbers, symbols, etc) exist in the keywords\n",
    "def process_keywords(keywords, output_file):\n",
    "    word_counts = []  # To store word count per sublist\n",
    "    total_word_count = 0\n",
    "    total_non_word_count = 0\n",
    "\n",
    "    for sublist in keywords:\n",
    "        sublist_word_count = 0  # Count words in this sublist\n",
    "        sublist_non_word_count = 0\n",
    "\n",
    "        for keyphrase in sublist:\n",
    "            # Split on whitespace or dash but preserve valid words\n",
    "            words = [word for part in keyphrase.split('-') for word in part.split()]\n",
    "            \n",
    "            for word in words:\n",
    "                if word.isalpha():  # Check if it's a valid word\n",
    "                    sublist_word_count += 1\n",
    "                    total_word_count += 1\n",
    "                else:\n",
    "                    sublist_non_word_count += 1\n",
    "                    total_non_word_count += 1\n",
    "\n",
    "        word_counts.append(sublist_word_count)\n",
    "    \n",
    "    # Save word counts to the output file\n",
    "    with open(output_file, 'w', encoding='utf-8') as f:\n",
    "        for count in word_counts:\n",
    "            f.write(str(count) + '\\n')\n",
    "\n",
    "    return total_word_count, total_non_word_count"
   ]
  },
  {
   "cell_type": "code",
   "execution_count": null,
   "metadata": {},
   "outputs": [],
   "source": [
    "T = [5, 10] # For 5 and 10 keywords/keyphrases"
   ]
  },
  {
   "cell_type": "code",
   "execution_count": null,
   "metadata": {},
   "outputs": [
    {
     "name": "stdout",
     "output_type": "stream",
     "text": [
      "10519\n"
     ]
    }
   ],
   "source": [
    "# The denominator usually indicates the number of processes we plan on using. For TF-IDF, the batch_size indicates the size of the batch_abstracts which determine how good TF values we get\n",
    "batch_size = int(num_abstracts / 5)  \n",
    "print(batch_size)"
   ]
  },
  {
   "cell_type": "code",
   "execution_count": 12,
   "metadata": {},
   "outputs": [
    {
     "name": "stdout",
     "output_type": "stream",
     "text": [
      "Created 5 ranges:\n",
      "[0, 10519]\n",
      "[10519, 21038]\n",
      "[21038, 31557]\n",
      "[31557, 42076]\n",
      "[42076, 52596]\n"
     ]
    }
   ],
   "source": [
    "ranges = []\n",
    "start = 0\n",
    "while start < num_abstracts:\n",
    "    end = min(start + batch_size, num_abstracts)  # Ensure the last range includes all remaining abstracts\n",
    "    ranges.append([start, end])\n",
    "    start = end\n",
    "\n",
    "\n",
    "ranges[-2][1] = ranges[-1][1]\n",
    "del ranges[-1]\n",
    "\n",
    "# Print ranges for verification\n",
    "print(f\"Created {len(ranges)} ranges:\")\n",
    "for r in ranges:\n",
    "    print(r)"
   ]
  },
  {
   "cell_type": "markdown",
   "metadata": {},
   "source": [
    "### ***TF-IDF Extraction***"
   ]
  },
  {
   "cell_type": "code",
   "execution_count": 13,
   "metadata": {},
   "outputs": [],
   "source": [
    "# Preprocess the abstracts: remove punctuation and stopwords\n",
    "stop_words = set(stopwords.words('english'))\n",
    "punctuation = set(string.punctuation)"
   ]
  },
  {
   "cell_type": "code",
   "execution_count": 14,
   "metadata": {},
   "outputs": [],
   "source": [
    "def preprocess(text):\n",
    "  text = text.lower()  # Lowercase\n",
    "  text = ''.join([ch for ch in text if ch not in punctuation])  # Remove punctuation\n",
    "  tokens = text.split()\n",
    "  tokens = [word for word in tokens if word not in stop_words]  # Remove stopwords\n",
    "  return ' '.join(tokens)"
   ]
  },
  {
   "cell_type": "code",
   "execution_count": 15,
   "metadata": {},
   "outputs": [],
   "source": [
    "# Preprocess each abstract\n",
    "preprocessed_abstracts = [preprocess(abstract) for abstract in abstracts]"
   ]
  },
  {
   "cell_type": "code",
   "execution_count": null,
   "metadata": {},
   "outputs": [],
   "source": [
    "# Parallel execution of TF-IDF\n",
    "tfidf_keywords = parallel_tfidf_processing(preprocessed_abstracts, ranges, T)"
   ]
  },
  {
   "cell_type": "code",
   "execution_count": null,
   "metadata": {},
   "outputs": [],
   "source": [
    "# Serial execution of TF-IDF\n",
    "start_time = datetime.now()\n",
    "\n",
    "tfidf_keywords = extract_keywords_tfidf(preprocessed_abstracts, T, ranges)\n",
    "#tfidf_keywords = extract_keywords_tfidf(preprocessed_abstracts, T)\n",
    "\n",
    "end_time = datetime.now()\n",
    "print(f'TF-IDF time: {((end_time - start_time).total_seconds()) / 60.0}')"
   ]
  },
  {
   "cell_type": "code",
   "execution_count": null,
   "metadata": {},
   "outputs": [],
   "source": [
    "tfidf_total_word_count, tfidf_total_non_word_count = process_keywords(tfidf_keywords, f\"{parent_path}/Word_Counts/TFIDF10.txt\")\n",
    "print(tfidf_total_non_word_count / tfidf_total_word_count)"
   ]
  },
  {
   "cell_type": "markdown",
   "metadata": {},
   "source": [
    "### ***Other Extraction Methods***"
   ]
  },
  {
   "cell_type": "markdown",
   "metadata": {},
   "source": [
    "#### ***Keyword Extraction Methods in Parallel***"
   ]
  },
  {
   "cell_type": "code",
   "execution_count": null,
   "metadata": {},
   "outputs": [],
   "source": [
    "# Function to process a batch of abstracts\n",
    "def process_batch(batch_abstracts, T, batch_index, kextraction_method):\n",
    "    batch_keywords = []\n",
    "    \n",
    "    for abstract in batch_abstracts:\n",
    "\n",
    "        # === RAKE ===\n",
    "        \n",
    "        \"\"\" oR = Rake(ranking_metric=Metric.DEGREE_TO_FREQUENCY_RATIO)\n",
    "        oR.extract_keywords_from_text(abstract)\n",
    "        unique_ranked_keywords = sorted(set(oR.get_ranked_phrases_with_scores()), key=lambda x: x[0], reverse=True)[:T]\n",
    "        batch_keywords.append([keyphrase for _, keyphrase in unique_ranked_keywords]) \"\"\"\n",
    "        \n",
    "        \n",
    "        # === YAKE ===\n",
    "        \n",
    "        \"\"\" yake_res = kextraction_method.extract_keywords(abstract)\n",
    "        batch_keywords.append([keyphrase for keyphrase, _ in yake_res]) \"\"\"\n",
    "        \n",
    "\n",
    "        # === Rank Extraction Methods ===\n",
    "        \n",
    "        rank_res = kextraction_method(abstract)\n",
    "        batch_keywords.append([keyphrase.text for keyphrase in rank_res._.phrases[:T]])\n",
    "        \n",
    "    return batch_index, batch_keywords\n",
    "\n",
    "def process_batch_rake(batch_abstracts, T, batch_index, kextraction_method=None):\n",
    "    batch_keywords = []\n",
    "    \n",
    "    for abstract in batch_abstracts:        \n",
    "        oR = Rake(ranking_metric=Metric.DEGREE_TO_FREQUENCY_RATIO)\n",
    "        oR.extract_keywords_from_text(abstract)\n",
    "        unique_ranked_keywords = sorted(set(oR.get_ranked_phrases_with_scores()), key=lambda x: x[0], reverse=True)[:T] # x[0] -> This is where the score is located\n",
    "        batch_keywords.append([keyphrase for _, keyphrase in unique_ranked_keywords])\n",
    "\n",
    "    return batch_index, batch_keywords\n",
    "\n",
    "def process_batch_yake(batch_abstracts, T, batch_index, kextraction_method):\n",
    "    batch_keywords = []\n",
    "    \n",
    "    for abstract in batch_abstracts:        \n",
    "        yake_res = kextraction_method.extract_keywords(abstract)\n",
    "        batch_keywords.append([keyphrase for keyphrase, _ in yake_res])\n",
    "\n",
    "    return batch_index, batch_keywords\n",
    "\n",
    "def process_batch_rank(batch_abstracts, T, batch_index, kextraction_method):\n",
    "    batch_keywords = []\n",
    "    \n",
    "    for abstract in batch_abstracts:        \n",
    "        rank_res = kextraction_method(abstract)\n",
    "        batch_keywords.append([keyphrase.text for keyphrase in rank_res._.phrases[:T]])\n",
    "\n",
    "    return batch_index, batch_keywords\n",
    "\n",
    "def parallel_kextraction_processing(abstracts, ranges, T, kextraction_method, num_threads=15, kextraction_method_obj=None):\n",
    "    keywords = [None] * len(abstracts)  # Initialize the final list\n",
    "    kextraction_function = None\n",
    "\n",
    "    if kextraction_method == \"RAKE\":\n",
    "        kextraction_function = process_batch_rake\n",
    "    elif kextraction_method == \"YAKE\":\n",
    "        kextraction_function = process_batch_yake\n",
    "    else:\n",
    "        kextraction_function = process_batch_rank\n",
    "\n",
    "\n",
    "    start_time = datetime.now()\n",
    "    \n",
    "    with concurrent.futures.ProcessPoolExecutor(max_workers=num_threads) as executor:\n",
    "        futures = [\n",
    "            executor.submit(kextraction_function, abstracts[start:end], T, batch_index, kextraction_method_obj)\n",
    "            for batch_index, (start, end) in enumerate(ranges)\n",
    "        ]\n",
    "        \n",
    "        for future in concurrent.futures.as_completed(futures):\n",
    "            batch_index, batch_keywords = future.result()\n",
    "            start, end = ranges[batch_index]\n",
    "            keywords[start:end] = batch_keywords  # Place results in the correct range\n",
    "\n",
    "        end_time = datetime.now()\n",
    "        print(f'Time {kextraction_method} {T}: {((end_time - start_time).total_seconds()) / 60.0}')\n",
    "\n",
    "    gc.collect()\n",
    "    return keywords"
   ]
  },
  {
   "cell_type": "markdown",
   "metadata": {},
   "source": [
    "##### Execute all keyword extraction methods together in parallel"
   ]
  },
  {
   "cell_type": "code",
   "execution_count": 16,
   "metadata": {},
   "outputs": [],
   "source": [
    "keywords = {\n",
    "    #'RAKE5': None,\n",
    "    #'YAKE5': None,\n",
    "    'TFIDF5': None,\n",
    "    #'TextR5': None,\n",
    "    #'PositionR5': None,\n",
    "    #'TopicR5': None,\n",
    "\n",
    "    #'RAKE10': None,\n",
    "    #'YAKE10': None,\n",
    "    'TFIDF10': None,\n",
    "    #'TextR10': None,\n",
    "    #'PositionR10': None,\n",
    "    #'TopicR10': None\n",
    "}"
   ]
  },
  {
   "cell_type": "code",
   "execution_count": null,
   "metadata": {},
   "outputs": [],
   "source": [
    "for t in T:\n",
    "    keywords[f'TFIDF{t}'] = parallel_tfidf_processing(preprocessed_abstracts, ranges, t)\n",
    "    \n",
    "#time.sleep(20) # For 5 minutes\n",
    "\n",
    "\"\"\" for t in T:\n",
    "    keywords[f'RAKE{t}'] = parallel_kextraction_processing(abstracts, ranges, t, 'RAKE', kextraction_method_obj=None)\n",
    "    \n",
    "time.sleep(20)\n",
    "\n",
    "for t in T:\n",
    "    yake_custom_keyword_extractor = yake.KeywordExtractor(lan='en', n=3, dedupLim=0.9, dedupFunc='seqm', windowsSize=1, top=t, features=None)\n",
    "    keywords[f'YAKE{t}'] = parallel_kextraction_processing(abstracts, ranges, t, 'YAKE', kextraction_method_obj=yake_custom_keyword_extractor)\n",
    "    del yake_custom_keyword_extractor\n",
    "    \n",
    "gc.collect()\n",
    "time.sleep(20)\n",
    "\n",
    "    \n",
    "topicrank = spacy.load(\"en_core_web_lg-3.8.0-py3-none-any/en_core_web_lg/en_core_web_lg-3.8.0\")\n",
    "topicrank.add_pipe(\"topicrank\")\n",
    "for t in T:\n",
    "    keywords[f'TopicR{t}'] = parallel_kextraction_processing(abstracts, ranges, t, 'Topic Rank', kextraction_method_obj=topicrank)\n",
    "\n",
    "del topicrank\n",
    "gc.collect()\n",
    "\n",
    "time.sleep(30)\n",
    "\n",
    "textrank = spacy.load(\"en_core_web_lg-3.8.0-py3-none-any/en_core_web_lg/en_core_web_lg-3.8.0\")\n",
    "textrank.add_pipe(\"textrank\")\n",
    "for t in T:\n",
    "    keywords[f'TextR{t}'] = parallel_kextraction_processing(abstracts, ranges, t, 'Text Rank', kextraction_method_obj=textrank)\n",
    "\n",
    "del textrank\n",
    "gc.collect()\n",
    "\n",
    "time.sleep(30)\n",
    "\n",
    "positionrank = spacy.load(\"en_core_web_lg-3.8.0-py3-none-any/en_core_web_lg/en_core_web_lg-3.8.0\")\n",
    "positionrank.add_pipe(\"positionrank\")\n",
    "for t in T:\n",
    "    keywords[f'PositionR{t}'] = parallel_kextraction_processing(abstracts, ranges, t, 'Position Rank', kextraction_method_obj=positionrank)\n",
    "    \n",
    "del positionrank\n",
    "gc.collect()\n",
    "\n",
    "time.sleep(20) \"\"\""
   ]
  },
  {
   "cell_type": "code",
   "execution_count": null,
   "metadata": {},
   "outputs": [],
   "source": [
    "for method, list_of_keywords in keywords.items():\n",
    "    save_keywords_to_files(list_of_keywords, f'Datasets/arxiv/graph-v2/Keywords/Parallel_Generated/{method}.txt')\n",
    "    total_word_count, total_non_word_count = process_keywords(list_of_keywords, f'Datasets/arxiv/graph-v2/Word_Counts/{method}.txt')\n",
    "    print(f'% of Non-Words for {method}: {total_non_word_count / total_word_count}')"
   ]
  },
  {
   "cell_type": "markdown",
   "metadata": {},
   "source": [
    "##### Execute one extraction method at a time"
   ]
  },
  {
   "cell_type": "code",
   "execution_count": null,
   "metadata": {},
   "outputs": [],
   "source": [
    "topicrank = spacy.load(\"en_core_web_lg-3.8.0-py3-none-any/en_core_web_lg/en_core_web_lg-3.8.0\")\n",
    "#positionrank = spacy.load(\"en_core_web_lg-3.7.1-py3-none-any/en_core_web_lg/en_core_web_lg-3.7.1\")\n",
    "#textrank = spacy.load(\"en_core_web_lg-3.7.1-py3-none-any/en_core_web_lg/en_core_web_lg-3.7.1\")\n",
    "\n",
    "#textrank.add_pipe(\"textrank\")\n",
    "#positionrank.add_pipe(\"positionrank\")\n",
    "topicrank.add_pipe(\"topicrank\")"
   ]
  },
  {
   "cell_type": "code",
   "execution_count": null,
   "metadata": {},
   "outputs": [],
   "source": [
    "yake_custom_keyword_extractor = yake.KeywordExtractor(lan='en', n=3, dedupLim=0.9, dedupFunc='seqm', windowsSize=1, top=T, features=None)"
   ]
  },
  {
   "cell_type": "code",
   "execution_count": null,
   "metadata": {},
   "outputs": [],
   "source": [
    "keywords = parallel_kextraction_processing(abstracts, ranges, t, 'Topic Rank', kextraction_method_obj=topicrank)"
   ]
  },
  {
   "cell_type": "code",
   "execution_count": null,
   "metadata": {},
   "outputs": [],
   "source": [
    "total_word_count, total_non_word_count = process_keywords(keywords, f\"{parent_path}/Word_Counts/PYAKE5.txt\")\n",
    "print(total_non_word_count / total_word_count)"
   ]
  },
  {
   "cell_type": "code",
   "execution_count": null,
   "metadata": {},
   "outputs": [],
   "source": [
    "# Check for duplicate keywords\n",
    "\n",
    "total_keywords = 0\n",
    "total_duplicates = 0\n",
    "\n",
    "# Process each sublist\n",
    "for sublist in keywords:\n",
    "    # Count total keywords in the sublist\n",
    "    total_keywords += len(sublist) # Assuming keywords are all words\n",
    "    \n",
    "    # Count duplicates in the sublist\n",
    "    unique_keywords = set(sublist)\n",
    "    duplicates = len(sublist) - len(unique_keywords)\n",
    "    total_duplicates += duplicates\n",
    "\n",
    "# Print results\n",
    "print(f\"Total number of keywords: {total_keywords}\")\n",
    "print(f\"Total number of duplicates: {total_duplicates}\")"
   ]
  },
  {
   "cell_type": "markdown",
   "metadata": {},
   "source": [
    "#### ***Keyword Extraction Methods in Serial***"
   ]
  },
  {
   "cell_type": "markdown",
   "metadata": {},
   "source": [
    "##### Execute all extraction methods"
   ]
  },
  {
   "cell_type": "code",
   "execution_count": null,
   "metadata": {},
   "outputs": [],
   "source": [
    "KE_methods = ['TFIDF', 'RAKE', 'YAKE', 'PosR', 'TextR', 'TopicR']\n",
    "\n",
    "for epoch, method in enumerate(KE_methods):\n",
    "    if method in ['PosR', 'TextR', 'TopicR']:\n",
    "        graph_method = spacy.load(\"en_core_web_lg-3.8.0-py3-none-any/en_core_web_lg/en_core_web_lg-3.8.0\")\n",
    "        graph_method.add_pipe(\"positionrank\" if method == 'PosR' else \"textrank\" if method == 'TextR' else \"topicrank\")\n",
    "    \n",
    "    for t in T:\n",
    "        if method == 'TFIDF':\n",
    "            start_time = datetime.now()\n",
    "            keywords = extract_keywords_tfidf(preprocessed_abstracts, t, ranges)\n",
    "            end_time = datetime.now()\n",
    "        elif method == 'RAKE':\n",
    "            keywords = []\n",
    "            start_time = datetime.now()\n",
    "            for abstract in abstracts:\n",
    "                rake_extractor = Rake(ranking_metric=Metric.DEGREE_TO_FREQUENCY_RATIO)\n",
    "                rake_extractor.extract_keywords_from_text(abstract)\n",
    "                ranked_keywords = sorted(set(rake_extractor.get_ranked_phrases_with_scores()), key=lambda x: x[0], reverse=True)[:t]\n",
    "                keywords.append([keyphrase for _, keyphrase in ranked_keywords])\n",
    "            end_time = datetime.now()\n",
    "        elif method == 'YAKE':\n",
    "            extractor = yake.KeywordExtractor(lan='en', n=3, dedupLim=0.9, dedupFunc='seqm', windowsSize=1, top=t)\n",
    "            start_time = datetime.now()\n",
    "            keywords = [[keyphrase for keyphrase, _ in extractor.extract_keywords(abstract)] for abstract in abstracts]\n",
    "            end_time = datetime.now()\n",
    "            del extractor\n",
    "        else:\n",
    "            start_time = datetime.now()\n",
    "            keywords = [[keyphrase.text for keyphrase in graph_method(abstract)._.phrases[:t]] for abstract in abstracts]\n",
    "            end_time = datetime.now()\n",
    "        \n",
    "        print(f'{method} {t} Time: {((end_time - start_time).total_seconds()) / 60.0}')\n",
    "        total_word_count, total_non_word_count = process_keywords(keywords, f'{parent_path}/Word_Counts/{method}{t}.txt')\n",
    "        print(f'% of Non-Words for {method}: {total_non_word_count / total_word_count}')\n",
    "        save_keywords_to_files(keywords, f'{parent_path}/Keywords/Serial_Generated/{method}{t}.txt')\n",
    "        gc.collect()\n",
    "    \n",
    "    if method in ['PosR', 'TextR', 'TopicR']:\n",
    "        del graph_method\n",
    "        gc.collect()\n",
    "\n",
    "gc.collect()\n"
   ]
  },
  {
   "cell_type": "markdown",
   "metadata": {},
   "source": [
    "##### Execute one extraction method at a time"
   ]
  },
  {
   "cell_type": "code",
   "execution_count": null,
   "metadata": {},
   "outputs": [],
   "source": [
    "#topicrank = spacy.load(\"en_core_web_lg-3.7.1-py3-none-any/en_core_web_lg/en_core_web_lg-3.7.1\")\n",
    "positionrank = spacy.load(\"en_core_web_lg-3.8.0-py3-none-any/en_core_web_lg/en_core_web_lg-3.8.0\")\n",
    "#textrank = spacy.load(\"en_core_web_lg-3.7.1-py3-none-any/en_core_web_lg/en_core_web_lg-3.7.1\")\n",
    "\n",
    "#textrank.add_pipe(\"textrank\")\n",
    "positionrank.add_pipe(\"positionrank\")\n",
    "#topicrank.add_pipe(\"topicrank\")"
   ]
  },
  {
   "cell_type": "code",
   "execution_count": null,
   "metadata": {},
   "outputs": [],
   "source": [
    "yake_custom_keyword_extractor = yake.KeywordExtractor(lan='en', n=3, dedupLim=0.9, dedupFunc='seqm', windowsSize=1, top=T, features=None)\n",
    "\n",
    "oRake_keywords = []\n",
    "yake_keywords = []\n",
    "textrank_keywords = []\n",
    "positionrank_keywords = []\n",
    "topicrank_keywords = []\n",
    "\n",
    "\n",
    "start = datetime.now()\n",
    "for i in tqdm(range(len(abstracts)), desc=\"Processing abstracts\"):\n",
    "    \n",
    "    # ===== Original Rake =====\n",
    "    \n",
    "    oR = Rake(ranking_metric=Metric.DEGREE_TO_FREQUENCY_RATIO)\n",
    "    oR.extract_keywords_from_text(abstracts[i])\n",
    "    unique_ranked_keywords = sorted(set(oR.get_ranked_phrases_with_scores()), key=lambda x: x[0], reverse=True)[:T]\n",
    "    oRake_keywords.append([keyphrase for _, keyphrase in unique_ranked_keywords])\n",
    "    \n",
    "\n",
    "    # ===== YAKE =====\n",
    "    \n",
    "    \"\"\" yake_sampled_keywords = yake_custom_keyword_extractor.extract_keywords(abstracts[i])\n",
    "    yake_keywords.append([keyphrase for keyphrase, _ in yake_sampled_keywords]) \"\"\"\n",
    "    \n",
    "\n",
    "    # ===== TextRank =====\n",
    "    \n",
    "    \"\"\" textrank_res = textrank(abstracts[i])\n",
    "    textrank_keywords.append([keyphrase.text for keyphrase in textrank_res._.phrases[:T]]) \"\"\"\n",
    "    \n",
    "    # ===== PositionRank =====\n",
    "    \n",
    "    \"\"\" positionrank_res = positionrank(abstracts[i])\n",
    "    positionrank_keywords.append([keyphrase.text for keyphrase in positionrank_res._.phrases[:T]]) \"\"\"\n",
    "    \n",
    "\n",
    "    # ===== TopicRank =====\n",
    "    \n",
    "    \"\"\" topicrank_res = topicrank(abstracts[i])\n",
    "    topicrank_keywords.append([keyphrase.text for keyphrase in topicrank_res._.phrases[:T]]) \"\"\"\n",
    "    \n",
    "\n",
    "    #print(f'Abstract: {i}')\n",
    "\n",
    "end = datetime.now()\n",
    "gc.collect()\n"
   ]
  },
  {
   "cell_type": "code",
   "execution_count": null,
   "metadata": {},
   "outputs": [],
   "source": [
    "print(f'Time: {((end - start).total_seconds()) / 60.0}')"
   ]
  },
  {
   "cell_type": "code",
   "execution_count": null,
   "metadata": {},
   "outputs": [],
   "source": [
    "total_word_count, total_non_word_count = process_keywords(oRake_keywords, f\"{parent_path}/Word_Counts/RAKE10.txt\")"
   ]
  },
  {
   "cell_type": "code",
   "execution_count": null,
   "metadata": {},
   "outputs": [],
   "source": [
    "total_non_word_count / total_word_count"
   ]
  },
  {
   "cell_type": "markdown",
   "metadata": {},
   "source": [
    "### Create Keyword Text Files and Boxplots"
   ]
  },
  {
   "cell_type": "code",
   "execution_count": null,
   "metadata": {},
   "outputs": [],
   "source": [
    "# Save the keywords to separate text files\n",
    "save_keywords_to_files(tfidf_keywords, 'Datasets/arxiv/graph-v1/TFIDF5.txt')\n"
   ]
  },
  {
   "cell_type": "code",
   "execution_count": null,
   "metadata": {},
   "outputs": [],
   "source": [
    "def analyze_word_counts(filenames):\n",
    "    # Store word counts for each file\n",
    "    word_counts_per_file = []\n",
    "    means = []\n",
    "\n",
    "    # Read word counts from each file\n",
    "    for filename in filenames:\n",
    "        with open(filename, 'r') as file:\n",
    "            word_counts = [int(line.strip()) for line in file]  # Convert each line to an integer\n",
    "            word_counts_per_file.append(word_counts)\n",
    "            means.append(sum(word_counts) / len(word_counts) if word_counts else 0)\n",
    "\n",
    "    # Print the means\n",
    "    for filename, mean in zip(filenames, means):\n",
    "        print(f\"Mean word count for {filename}: {mean}\")\n",
    "\n",
    "    labels = [\n",
    "        'TF-IDF',\n",
    "        'RAKE',\n",
    "        'YAKE',\n",
    "        'TextRank',\n",
    "        'PositionRank',\n",
    "        'TopicRank'\n",
    "    ]\n",
    "\n",
    "    # Customize flier (outlier) properties\n",
    "    flierprops = dict(marker='o', markersize=4, linestyle='none', markeredgecolor='black')\n",
    "\n",
    "    # Create horizontal boxplots\n",
    "    plt.figure(figsize=(12, 8))  # Increase figure size\n",
    "    colors = sns.color_palette(\"pastel\", len(filenames))  # Generate distinct colors\n",
    "    boxplots = plt.boxplot(word_counts_per_file, patch_artist=True, widths=0.6, flierprops=flierprops, vert=False)\n",
    "\n",
    "    # Apply colors to the boxes\n",
    "    for patch, color in zip(boxplots['boxes'], colors):\n",
    "        patch.set_facecolor(color)\n",
    "\n",
    "    # Add gridlines\n",
    "    plt.grid(axis='x', linestyle='--', alpha=0.7)\n",
    "\n",
    "    # Customize y-axis labels (since plot is now horizontal)\n",
    "    plt.yticks(\n",
    "        ticks=range(1, len(filenames) + 1), \n",
    "        labels=labels,  # Simplified names\n",
    "        fontsize=20\n",
    "    )\n",
    "\n",
    "    # Add title and labels\n",
    "    plt.title(\"Word Count Distribution per Method\", fontsize=20)\n",
    "    plt.xlabel(\"Word Count\", fontsize=20)\n",
    "    plt.ylabel(\"Methods\", fontsize=20)\n",
    "    plt.xticks(fontsize=20)\n",
    "    plt.tight_layout()\n",
    "\n",
    "    # Save plots\n",
    "    plt.savefig('Datasets/arxiv/graph-v2/Box_Plots_Graph-V2_K5.svg', format=\"svg\")\n",
    "    plt.savefig('Datasets/arxiv/graph-v2/Box_Plots_Graph-V2_K5.png', format=\"png\")\n",
    "    plt.savefig('Datasets/arxiv/graph-v2/Box_Plots_Graph-V2_K5.jpg', format=\"jpg\")\n",
    "\n",
    "    # Show plot\n",
    "    plt.show()\n"
   ]
  },
  {
   "cell_type": "code",
   "execution_count": 13,
   "metadata": {},
   "outputs": [
    {
     "name": "stdout",
     "output_type": "stream",
     "text": [
      "Mean word count for Datasets/arxiv/graph-v2/Word_Counts/TFIDF5.txt: 4.913833751616092\n",
      "Mean word count for Datasets/arxiv/graph-v2/Word_Counts/RAKE5.txt: 20.812704388166402\n",
      "Mean word count for Datasets/arxiv/graph-v2/Word_Counts/YAKE5.txt: 12.09839151266256\n",
      "Mean word count for Datasets/arxiv/graph-v2/Word_Counts/TextR5.txt: 12.815404213248156\n",
      "Mean word count for Datasets/arxiv/graph-v2/Word_Counts/PositionR5.txt: 13.552703627652292\n",
      "Mean word count for Datasets/arxiv/graph-v2/Word_Counts/TopicR5.txt: 9.43465282530991\n"
     ]
    },
    {
     "data": {
      "image/png": "[encoded data removed]",
      "text/plain": [
       "<Figure size 1200x800 with 1 Axes>"
      ]
     },
     "metadata": {},
     "output_type": "display_data"
    }
   ],
   "source": [
    "analyze_word_counts([\n",
    "    'Datasets/arxiv/graph-v2/Word_Counts/TFIDF5.txt',\n",
    "    'Datasets/arxiv/graph-v2/Word_Counts/RAKE5.txt',\n",
    "    'Datasets/arxiv/graph-v2/Word_Counts/YAKE5.txt',\n",
    "    'Datasets/arxiv/graph-v2/Word_Counts/TextR5.txt',\n",
    "    'Datasets/arxiv/graph-v2/Word_Counts/PositionR5.txt',\n",
    "    'Datasets/arxiv/graph-v2/Word_Counts/TopicR5.txt'\n",
    "])"
   ]
  }
 ],
 "metadata": {
  "kernelspec": {
   "display_name": "Context_Aware_Node_Embeddings",
   "language": "python",
   "name": "python3"
  },
  "language_info": {
   "codemirror_mode": {
    "name": "ipython",
    "version": 3
   },
   "file_extension": ".py",
   "mimetype": "text/x-python",
   "name": "python",
   "nbconvert_exporter": "python",
   "pygments_lexer": "ipython3",
   "version": "3.10.12"
  }
 },
 "nbformat": 4,
 "nbformat_minor": 2
}
